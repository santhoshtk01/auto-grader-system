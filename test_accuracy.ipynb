{
 "cells": [
  {
   "cell_type": "code",
   "execution_count": 1,
   "id": "42aa5c0b-fe41-4107-9fbd-b32b906a6601",
   "metadata": {},
   "outputs": [],
   "source": [
    "predicted_scores = [7, 8, 5, 2, 8, 9, 7, 8, 5, 8, 8, 6, 7, 6, 8, 8, 10, 8, 5, 5, 7, 7, 5, 2, 8, 2, 6, 8, 8, 8, 8, 2, 5, 7, 8, 6, 9, 9, 8, 8, 7, 7, 3, 6, 7, 8, 9, 7, 7, 3, 6, 8, 7, 8, 7, 2, 8, 5, 6, 8, 9, 7, 9, 5, 8, 9, 7, 5, 7, 7, 8, 8, 8, 8, 7, 8, 2, 8, 6, 7, 9, 7, 8, 8, 2, 2, 5, 7, 2, 8, 8, 4, 3, 6, 8, 6, 4, 8, 8, 8, 6, 2, 5, 8, 8, 8, 6, 3, 4, 9, 7, 2, 6, 7, 5, 8, 6, 9, 8, 8, 7, 8, 9, 5, 8, 6, 5, 8, 7, 2, 8, 6, 8, 2, 7, 9, 7, 2, 8, 4, 6, 6, 7, 5, 7, 7, 4, 8, 8, 8, 8, 5, 8, 5, 8, 5, 5, 8, 7, 7, 7, 8, 2, 3, 8, 7, 4, 6, 2, 7, 6, 6, 5, 6, 8, 2, 6, 8, 8, 8, 8, 6, 5, 9, 8, 6, 3, 8, 6, 5, 6, 8, 5, 8, 7, 6, 8, 6, 4, 8, 8, 7, 2, 6, 5, 6, 7, 5, 5, 6, 8, 8, 2, 5, 7, 7, 8, 6, 8, 7, 6, 8, 6, 3, 6, 2, 6, 2, 7, 8, 6, 8, 7, 8, 5, 8, 5, 7, 7, 8, 2, 7, 8, 5, 5, 5, 8, 8, 8, 2, 7, 5, 2, 5, 5, 6, 4, 12, 8, 7, 8, 9, 3, 2, 5, 2, 8, 10, 6, 6, 5, 8, 8, 8, 8, 7, 6, 4, 8, 2, 9, 7, 8, 5, 7, 5, 2, 7, 8, 8, 8, 5, 7, 8, 8, 5, 7, 10, 4, 8, 8, 5, 8, 8, 6, 8, 8, 5, 7, 7, 8, 8, 8, 2, 7, 7, 2, 7, 6, 8, 9, 8, 8, 7, 5, 8, 8, 8, 8, 7, 7, 8, 6, 8, 8, 8, 2, 6, 9, 10, 6, 5, 6, 2, 5, 6, 8, 8, 5, 6, 9, 2, 5, 5, 9, 8, 6, 6, 7, 6, 5, 10, 6, 9, 8, 8, 5, 2, 7, 5, 8, 9, 2, 5, 8, 8, 6, 8, 5, 7]"
   ]
  },
  {
   "cell_type": "code",
   "execution_count": 2,
   "id": "0550fd5b-dcc8-4463-966c-ca1c3a2faf56",
   "metadata": {},
   "outputs": [],
   "source": [
    "skipped = [8, 11, 12, 16, 19, 20, 21, 24, 27, 30, 35, 36, 37, 41, 45, 52, 53, 56, 57, 60, 62, 63, 64, 66, 67, 71, 72, 74, 76, 82, 83, 84, 85, 86, 88, 90, 91, 95, 97, 100, 101, 102, 103, 108, 109, 111, 113, 114, 117, 122, 131, 134, 135, 152, 156, 161, 162, 164, 167, 168, 170, 178, 185, 187, 188, 189, 203, 205, 207, 209, 211, 214, 216, 222, 224, 230, 234, 240, 244, 246, 248, 251, 252, 256, 260, 261, 264, 265, 266, 270, 275, 276, 278, 281, 284, 286, 290, 294, 296, 297, 298, 309, 321, 323, 325, 327, 329, 330, 331, 340, 341, 343, 344, 345, 347, 348, 349, 350, 352, 356, 358, 363, 365, 368, 371, 375, 387, 392, 395, 397, 398, 402, 406, 408, 411, 415, 417, 420, 424, 426, 427, 428, 429, 430, 432, 433, 435, 436, 439, 440, 441, 444, 447, 450, 454, 455, 461, 463, 466, 467, 470, 473, 476, 478, 484, 489, 491, 497, 501, 502, 503, 505, 506, 507, 508, 511, 512, 515, 516, 517, 518, 524, 526, 529, 530, 531, 533, 536, 542, 544, 551, 552, 553, 555, 556, 558, 560, 561, 565, 570, 571, 574, 575, 576, 578, 580, 581, 582, 585]"
   ]
  },
  {
   "cell_type": "code",
   "execution_count": 6,
   "id": "53be7a0d-6536-4440-b678-22406ae20f8d",
   "metadata": {},
   "outputs": [
    {
     "data": {
      "text/html": [
       "<div>\n",
       "<style scoped>\n",
       "    .dataframe tbody tr th:only-of-type {\n",
       "        vertical-align: middle;\n",
       "    }\n",
       "\n",
       "    .dataframe tbody tr th {\n",
       "        vertical-align: top;\n",
       "    }\n",
       "\n",
       "    .dataframe thead th {\n",
       "        text-align: right;\n",
       "    }\n",
       "</style>\n",
       "<table border=\"1\" class=\"dataframe\">\n",
       "  <thead>\n",
       "    <tr style=\"text-align: right;\">\n",
       "      <th></th>\n",
       "      <th>essay_id</th>\n",
       "      <th>essay_set</th>\n",
       "      <th>essay</th>\n",
       "      <th>Score</th>\n",
       "    </tr>\n",
       "  </thead>\n",
       "  <tbody>\n",
       "    <tr>\n",
       "      <th>0</th>\n",
       "      <td>1788</td>\n",
       "      <td>1</td>\n",
       "      <td>Dear @ORGANIZATION1, @CAPS1 more and more peop...</td>\n",
       "      <td>7</td>\n",
       "    </tr>\n",
       "    <tr>\n",
       "      <th>1</th>\n",
       "      <td>1789</td>\n",
       "      <td>1</td>\n",
       "      <td>Dear @LOCATION1 Time @CAPS1 me tell you what I...</td>\n",
       "      <td>8</td>\n",
       "    </tr>\n",
       "    <tr>\n",
       "      <th>2</th>\n",
       "      <td>1790</td>\n",
       "      <td>1</td>\n",
       "      <td>Dear Local newspaper, Have you been spending a...</td>\n",
       "      <td>9</td>\n",
       "    </tr>\n",
       "    <tr>\n",
       "      <th>3</th>\n",
       "      <td>1791</td>\n",
       "      <td>1</td>\n",
       "      <td>Dear Readers, @CAPS1 you imagine how life woul...</td>\n",
       "      <td>9</td>\n",
       "    </tr>\n",
       "    <tr>\n",
       "      <th>4</th>\n",
       "      <td>1792</td>\n",
       "      <td>1</td>\n",
       "      <td>Dear newspaper, I strongly believe that comput...</td>\n",
       "      <td>9</td>\n",
       "    </tr>\n",
       "  </tbody>\n",
       "</table>\n",
       "</div>"
      ],
      "text/plain": [
       "   essay_id  essay_set                                              essay  \\\n",
       "0      1788          1  Dear @ORGANIZATION1, @CAPS1 more and more peop...   \n",
       "1      1789          1  Dear @LOCATION1 Time @CAPS1 me tell you what I...   \n",
       "2      1790          1  Dear Local newspaper, Have you been spending a...   \n",
       "3      1791          1  Dear Readers, @CAPS1 you imagine how life woul...   \n",
       "4      1792          1  Dear newspaper, I strongly believe that comput...   \n",
       "\n",
       "   Score  \n",
       "0      7  \n",
       "1      8  \n",
       "2      9  \n",
       "3      9  \n",
       "4      9  "
      ]
     },
     "execution_count": 6,
     "metadata": {},
     "output_type": "execute_result"
    }
   ],
   "source": [
    "import pandas as pd\n",
    "\n",
    "# Read the set 1 file Score(2, 12)\n",
    "dataFrame = pd.read_excel(\"./TestData/set1.xlsx\")\n",
    "dataFrame.head()"
   ]
  },
  {
   "cell_type": "code",
   "execution_count": 18,
   "id": "d7885023-e939-4abf-b202-1e4a77d621bf",
   "metadata": {},
   "outputs": [],
   "source": [
    "# Remove the skipped scores from the actual score\n",
    "actual_score = dataFrame['Score']\n",
    "final_output = []\n",
    "\n",
    "for index, score in enumerate(list(actual_score)):\n",
    "    if index not in skipped:\n",
    "        final_output.append(score)"
   ]
  },
  {
   "cell_type": "code",
   "execution_count": 30,
   "id": "91fe3ff5-0701-4eb7-a8c2-a19ee3246f0c",
   "metadata": {},
   "outputs": [],
   "source": [
    "from sklearn.metrics import accuracy_score, confusion_matrix, classification_report"
   ]
  },
  {
   "cell_type": "code",
   "execution_count": 31,
   "id": "87a526e8-2539-4286-87f0-82cbe9b2fb9f",
   "metadata": {},
   "outputs": [
    {
     "name": "stdout",
     "output_type": "stream",
     "text": [
      "589\n",
      "380\n",
      "209\n",
      "380\n"
     ]
    }
   ],
   "source": [
    "print(len(actual_score))\n",
    "print(len(predicted_scores))\n",
    "print(len(skipped))\n",
    "print(len(final_output))"
   ]
  },
  {
   "cell_type": "code",
   "execution_count": 32,
   "id": "6d3a29d8-9290-42d3-9aa3-1148fd8c71d2",
   "metadata": {},
   "outputs": [
    {
     "name": "stdout",
     "output_type": "stream",
     "text": [
      "0.14736842105263157\n"
     ]
    }
   ],
   "source": [
    "print(accuracy_score(final_output, predicted_scores))"
   ]
  },
  {
   "cell_type": "code",
   "execution_count": 35,
   "id": "78092c1f-3c68-4b11-8324-f347012e8a5c",
   "metadata": {},
   "outputs": [
    {
     "name": "stdout",
     "output_type": "stream",
     "text": [
      "              precision    recall  f1-score   support\n",
      "\n",
      "           2       0.00      0.00      0.00         1\n",
      "           3       0.00      0.00      0.00         0\n",
      "           4       0.10      0.50      0.17         2\n",
      "           5       0.00      0.00      0.00         5\n",
      "           6       0.05      0.14      0.08        22\n",
      "           7       0.14      0.21      0.17        43\n",
      "           8       0.23      0.25      0.24       117\n",
      "           9       0.48      0.11      0.18        92\n",
      "          10       0.80      0.06      0.10        72\n",
      "          11       0.00      0.00      0.00        23\n",
      "          12       0.00      0.00      0.00         3\n",
      "\n",
      "    accuracy                           0.15       380\n",
      "   macro avg       0.16      0.11      0.08       380\n",
      "weighted avg       0.36      0.15      0.16       380\n",
      "\n"
     ]
    },
    {
     "name": "stderr",
     "output_type": "stream",
     "text": [
      "/home/santhoshtk/anaconda3/lib/python3.11/site-packages/sklearn/metrics/_classification.py:1344: UndefinedMetricWarning: Precision and F-score are ill-defined and being set to 0.0 in labels with no predicted samples. Use `zero_division` parameter to control this behavior.\n",
      "  _warn_prf(average, modifier, msg_start, len(result))\n",
      "/home/santhoshtk/anaconda3/lib/python3.11/site-packages/sklearn/metrics/_classification.py:1344: UndefinedMetricWarning: Recall and F-score are ill-defined and being set to 0.0 in labels with no true samples. Use `zero_division` parameter to control this behavior.\n",
      "  _warn_prf(average, modifier, msg_start, len(result))\n",
      "/home/santhoshtk/anaconda3/lib/python3.11/site-packages/sklearn/metrics/_classification.py:1344: UndefinedMetricWarning: Precision and F-score are ill-defined and being set to 0.0 in labels with no predicted samples. Use `zero_division` parameter to control this behavior.\n",
      "  _warn_prf(average, modifier, msg_start, len(result))\n",
      "/home/santhoshtk/anaconda3/lib/python3.11/site-packages/sklearn/metrics/_classification.py:1344: UndefinedMetricWarning: Recall and F-score are ill-defined and being set to 0.0 in labels with no true samples. Use `zero_division` parameter to control this behavior.\n",
      "  _warn_prf(average, modifier, msg_start, len(result))\n",
      "/home/santhoshtk/anaconda3/lib/python3.11/site-packages/sklearn/metrics/_classification.py:1344: UndefinedMetricWarning: Precision and F-score are ill-defined and being set to 0.0 in labels with no predicted samples. Use `zero_division` parameter to control this behavior.\n",
      "  _warn_prf(average, modifier, msg_start, len(result))\n",
      "/home/santhoshtk/anaconda3/lib/python3.11/site-packages/sklearn/metrics/_classification.py:1344: UndefinedMetricWarning: Recall and F-score are ill-defined and being set to 0.0 in labels with no true samples. Use `zero_division` parameter to control this behavior.\n",
      "  _warn_prf(average, modifier, msg_start, len(result))\n"
     ]
    }
   ],
   "source": [
    "# Generate classification report\n",
    "print(classification_report(final_output, predicted_scores))"
   ]
  },
  {
   "cell_type": "code",
   "execution_count": 38,
   "id": "c368c48a-bca0-4024-a250-719b340bdfce",
   "metadata": {},
   "outputs": [],
   "source": [
    "# Finding the min and max difference\n",
    "\n",
    "difference = []\n",
    "\n",
    "for index in range(len(final_output)):\n",
    "    difference.append(final_output[index] - predicted_scores[index])"
   ]
  },
  {
   "cell_type": "code",
   "execution_count": 40,
   "id": "aed77148-23a4-4665-af43-d0c92565676a",
   "metadata": {},
   "outputs": [
    {
     "name": "stdout",
     "output_type": "stream",
     "text": [
      "-4\n",
      "9\n"
     ]
    }
   ],
   "source": [
    "print(min(difference))\n",
    "print(max(difference))"
   ]
  },
  {
   "cell_type": "code",
   "execution_count": null,
   "id": "3d130c86-b0af-4310-bbb8-0aa53513924f",
   "metadata": {},
   "outputs": [],
   "source": []
  }
 ],
 "metadata": {
  "kernelspec": {
   "display_name": "Python 3 (ipykernel)",
   "language": "python",
   "name": "python3"
  },
  "language_info": {
   "codemirror_mode": {
    "name": "ipython",
    "version": 3
   },
   "file_extension": ".py",
   "mimetype": "text/x-python",
   "name": "python",
   "nbconvert_exporter": "python",
   "pygments_lexer": "ipython3",
   "version": "3.11.7"
  }
 },
 "nbformat": 4,
 "nbformat_minor": 5
}
